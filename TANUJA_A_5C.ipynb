{
 "cells": [
  {
   "cell_type": "code",
   "execution_count": 1,
   "id": "d6dac48d",
   "metadata": {},
   "outputs": [],
   "source": [
    "import pandas as pd"
   ]
  },
  {
   "cell_type": "code",
   "execution_count": 2,
   "id": "404e53d5",
   "metadata": {},
   "outputs": [],
   "source": [
    "df = pd.read_csv(r\"C:\\Users\\HP\\Downloads\\sales_data_1.csv\")"
   ]
  },
  {
   "cell_type": "code",
   "execution_count": 3,
   "id": "01feb58a",
   "metadata": {},
   "outputs": [
    {
     "data": {
      "text/html": [
       "<div>\n",
       "<style scoped>\n",
       "    .dataframe tbody tr th:only-of-type {\n",
       "        vertical-align: middle;\n",
       "    }\n",
       "\n",
       "    .dataframe tbody tr th {\n",
       "        vertical-align: top;\n",
       "    }\n",
       "\n",
       "    .dataframe thead th {\n",
       "        text-align: right;\n",
       "    }\n",
       "</style>\n",
       "<table border=\"1\" class=\"dataframe\">\n",
       "  <thead>\n",
       "    <tr style=\"text-align: right;\">\n",
       "      <th></th>\n",
       "      <th>Date</th>\n",
       "      <th>Firm bought from</th>\n",
       "      <th>Buying price</th>\n",
       "      <th>Customer</th>\n",
       "      <th>Selling price</th>\n",
       "      <th>Quantity sold</th>\n",
       "    </tr>\n",
       "  </thead>\n",
       "  <tbody>\n",
       "    <tr>\n",
       "      <th>0</th>\n",
       "      <td>21/08/23</td>\n",
       "      <td>Vendor6</td>\n",
       "      <td>72.11</td>\n",
       "      <td>Customer7</td>\n",
       "      <td>91.58</td>\n",
       "      <td>44</td>\n",
       "    </tr>\n",
       "    <tr>\n",
       "      <th>1</th>\n",
       "      <td>21/08/23</td>\n",
       "      <td>Vendor4</td>\n",
       "      <td>75.08</td>\n",
       "      <td>Customer7</td>\n",
       "      <td>83.71</td>\n",
       "      <td>17</td>\n",
       "    </tr>\n",
       "    <tr>\n",
       "      <th>2</th>\n",
       "      <td>21/08/23</td>\n",
       "      <td>Vendor7</td>\n",
       "      <td>83.93</td>\n",
       "      <td>Customer2</td>\n",
       "      <td>103.76</td>\n",
       "      <td>15</td>\n",
       "    </tr>\n",
       "    <tr>\n",
       "      <th>3</th>\n",
       "      <td>21/08/23</td>\n",
       "      <td>Vendor7</td>\n",
       "      <td>52.01</td>\n",
       "      <td>Customer3</td>\n",
       "      <td>64.53</td>\n",
       "      <td>7</td>\n",
       "    </tr>\n",
       "    <tr>\n",
       "      <th>4</th>\n",
       "      <td>21/08/23</td>\n",
       "      <td>Vendor2</td>\n",
       "      <td>98.91</td>\n",
       "      <td>Customer5</td>\n",
       "      <td>140.92</td>\n",
       "      <td>1</td>\n",
       "    </tr>\n",
       "  </tbody>\n",
       "</table>\n",
       "</div>"
      ],
      "text/plain": [
       "       Date Firm bought from  Buying price   Customer  Selling price  \\\n",
       "0  21/08/23          Vendor6         72.11  Customer7          91.58   \n",
       "1  21/08/23          Vendor4         75.08  Customer7          83.71   \n",
       "2  21/08/23          Vendor7         83.93  Customer2         103.76   \n",
       "3  21/08/23          Vendor7         52.01  Customer3          64.53   \n",
       "4  21/08/23          Vendor2         98.91  Customer5         140.92   \n",
       "\n",
       "   Quantity sold  \n",
       "0             44  \n",
       "1             17  \n",
       "2             15  \n",
       "3              7  \n",
       "4              1  "
      ]
     },
     "execution_count": 3,
     "metadata": {},
     "output_type": "execute_result"
    }
   ],
   "source": [
    "df.head(5)"
   ]
  },
  {
   "cell_type": "markdown",
   "id": "8dc838a6",
   "metadata": {},
   "source": [
    "1. What is their overall gross margin for their business?"
   ]
  },
  {
   "cell_type": "code",
   "execution_count": 4,
   "id": "571b26cb",
   "metadata": {},
   "outputs": [
    {
     "name": "stdout",
     "output_type": "stream",
     "text": [
      "The overall gross margin would be: 31482.749999999996\n"
     ]
    }
   ],
   "source": [
    "df['Gross Margin'] = (df['Selling price'] - df['Buying price']) * df['Quantity sold']\n",
    "print(f\"The overall gross margin would be: {df['Gross Margin'].sum()}\")"
   ]
  },
  {
   "cell_type": "markdown",
   "id": "835c1c9f",
   "metadata": {},
   "source": [
    "2. Which vendor is the most profitable?"
   ]
  },
  {
   "cell_type": "code",
   "execution_count": 5,
   "id": "83f6f8a3",
   "metadata": {},
   "outputs": [
    {
     "name": "stdout",
     "output_type": "stream",
     "text": [
      "The most profitable vendor is Vendor4 with a total gross margin of 6903.309999999999\n"
     ]
    }
   ],
   "source": [
    "profit_by_vendor = df.groupby('Firm bought from')['Gross Margin'].sum()\n",
    "most_profitable_vendor = profit_by_vendor.idxmax()\n",
    "print(f'The most profitable vendor is {most_profitable_vendor} with a total gross margin of {profit_by_vendor[most_profitable_vendor]}')"
   ]
  },
  {
   "cell_type": "markdown",
   "id": "a896d0cf",
   "metadata": {},
   "source": [
    "3.Which customer is the least profitable?"
   ]
  },
  {
   "cell_type": "code",
   "execution_count": 6,
   "id": "a52f3f07",
   "metadata": {},
   "outputs": [
    {
     "name": "stdout",
     "output_type": "stream",
     "text": [
      "The least profitable customer is Customer3 with a total gross margin of 1055.05\n"
     ]
    }
   ],
   "source": [
    "profit_by_customer = df.groupby('Customer')['Gross Margin'].sum()\n",
    "least_profitable_customer = profit_by_customer.idxmin()\n",
    "print(f'The least profitable customer is {least_profitable_customer} with a total gross margin of {profit_by_customer[least_profitable_customer]}')"
   ]
  },
  {
   "cell_type": "markdown",
   "id": "fc4764fa",
   "metadata": {},
   "source": [
    "4. Which day of the week was most profitable for them?"
   ]
  },
  {
   "cell_type": "code",
   "execution_count": 7,
   "id": "a9876c5b",
   "metadata": {},
   "outputs": [
    {
     "name": "stdout",
     "output_type": "stream",
     "text": [
      "The most profitable day of the week was Monday with a total gross margin of 6847.339999999998\n"
     ]
    }
   ],
   "source": [
    "df['Date'] = pd.to_datetime(df['Date'], format='%d/%m/%y')\n",
    "df['Day of the Week'] = df['Date'].dt.day_name()\n",
    "profit_by_day = df.groupby('Day of the Week')['Gross Margin'].sum()\n",
    "most_profitable_day = profit_by_day.idxmax()\n",
    "print(f'The most profitable day of the week was {most_profitable_day} with a total gross margin of {profit_by_day[most_profitable_day]}')"
   ]
  },
  {
   "cell_type": "markdown",
   "id": "81c40ac4",
   "metadata": {},
   "source": [
    "5. Which day of the week was the least profitable for them?"
   ]
  },
  {
   "cell_type": "code",
   "execution_count": 8,
   "id": "b1fe3e61",
   "metadata": {},
   "outputs": [
    {
     "name": "stdout",
     "output_type": "stream",
     "text": [
      "The least profitable day of the week was Sunday with a total gross margin of 3086.4599999999996\n"
     ]
    }
   ],
   "source": [
    "least_profitable_day = profit_by_day.idxmin()\n",
    "print(f'The least profitable day of the week was {least_profitable_day} with a total gross margin of {profit_by_day[least_profitable_day]}')"
   ]
  }
 ],
 "metadata": {
  "kernelspec": {
   "display_name": "Python 3 (ipykernel)",
   "language": "python",
   "name": "python3"
  },
  "language_info": {
   "codemirror_mode": {
    "name": "ipython",
    "version": 3
   },
   "file_extension": ".py",
   "mimetype": "text/x-python",
   "name": "python",
   "nbconvert_exporter": "python",
   "pygments_lexer": "ipython3",
   "version": "3.11.4"
  }
 },
 "nbformat": 4,
 "nbformat_minor": 5
}
